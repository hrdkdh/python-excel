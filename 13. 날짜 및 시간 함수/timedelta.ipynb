{
 "cells": [
  {
   "cell_type": "code",
   "execution_count": null,
   "metadata": {},
   "outputs": [],
   "source": [
    "import math\n",
    "from datetime import datetime\n",
    "\n",
    "this_datetime = datetime(2020, 10, 27, 13, 10, 30)  #특정 날짜와 시간을 datetime 객체 인스턴스로 생성한 후 변수에 저장 (시간은 생략가능)\n",
    "now_datetime = datetime.now()  #오늘 날짜 및 현재 시각을 알고 싶다면 now() 메서드 이용\n",
    "\n",
    "# 1. 일자(days) 차이 구하기 + 일자 외 나머지 시간 차이 구하기\n",
    "gap_days = (now_datetime - this_datetime).days\n",
    "gap_total_seconds = (now_datetime - this_datetime).seconds\n",
    "gap_total_hours = gap_total_seconds / 3600\n",
    "gap_total_minutes = gap_total_seconds / 60\n",
    "\n",
    "print(\"지정시간 :\", this_datetime)\n",
    "print(\"현재시간 :\", now_datetime)\n",
    "print(\"일자차이 : \", gap_days, \"일\")\n",
    "print(\"차이(일자 + 초 포함) : \", gap_days, \"일\", gap_total_seconds, \"초\")\n",
    "print(\"차이(일자 + 초 → 시간으로 변환하여 포함) : \", gap_days, \"일\", gap_total_hours, \"시간\")\n",
    "print(\"차이(일자 + 초 → 분으로 변환하여 포함) : \", gap_days, \"일\", gap_total_minutes, \"분\")"
   ]
  },
  {
   "cell_type": "code",
   "execution_count": 3,
   "metadata": {},
   "outputs": [
    {
     "name": "stdout",
     "output_type": "stream",
     "text": [
      "차이(일, 시, 분, 초) : 3시간 33분 30초\n"
     ]
    }
   ],
   "source": [
    "# 2. 일자, 시간, 분, 초 차이를 구하여 출력하기\n",
    "\n",
    "import math\n",
    "gap_total_seconds = 12810\n",
    "\n",
    "gap_hours = math.floor(gap_total_seconds / 3600)\n",
    "gap_minutes = math.floor(\n",
    "    (\n",
    "        gap_total_seconds - (gap_hours*3600)\n",
    "    ) / 60\n",
    ")\n",
    "gap_seconds = gap_total_seconds - (gap_hours*3600) - (gap_minutes*60)\n",
    "\n",
    "print(\"차이(일, 시, 분, 초) :\",\n",
    "#       str(gap_days) + \"일\",\n",
    "      str(gap_hours) + \"시간\",\n",
    "      str(gap_minutes) + \"분\",\n",
    "      str(gap_seconds) + \"초\",\n",
    "     )"
   ]
  }
 ],
 "metadata": {
  "kernelspec": {
   "display_name": "Python 3",
   "language": "python",
   "name": "python3"
  },
  "language_info": {
   "codemirror_mode": {
    "name": "ipython",
    "version": 3
   },
   "file_extension": ".py",
   "mimetype": "text/x-python",
   "name": "python",
   "nbconvert_exporter": "python",
   "pygments_lexer": "ipython3",
   "version": "3.7.9"
  }
 },
 "nbformat": 4,
 "nbformat_minor": 4
}
