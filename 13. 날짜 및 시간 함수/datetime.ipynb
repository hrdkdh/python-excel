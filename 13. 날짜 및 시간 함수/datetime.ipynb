{
 "cells": [
  {
   "cell_type": "code",
   "execution_count": null,
   "metadata": {
    "scrolled": true
   },
   "outputs": [],
   "source": [
    "from datetime import datetime\n",
    "\n",
    "# 1.특정 날짜와 시간을 변수로 저장해 활용하려면?\n",
    "this_datetime = datetime(2020, 10, 27, 13, 10, 30)  #특정 날짜와 시간을 datetime 객체 인스턴스로 생성한 후 변수에 저장 (시간은 생략가능)\n",
    "print(this_datetime) #→ 2020, 10, 27, 13:10:30 출력 (type : datetime.datetime 클래스)\n",
    "\n",
    "#생성한 인스턴스의 년, 월, 일, 시, 분, 초 데이터는 year, month, day, hour, minute, second 멤버변수를 통해 따로 접근 가능\n",
    "print(this_datetime.year)\n",
    "print(this_datetime.month)\n",
    "print(this_datetime.day)\n",
    "print(this_datetime.hour)\n",
    "print(this_datetime.minute)\n",
    "print(this_datetime.second)\n",
    "\n",
    "# 2.현재 날짜와 시간을 변수로 저장해 활용하려면?\n",
    "now_datetime = datetime.now()  #오늘 날짜 및 현재 시각을 알고 싶다면 now() 메서드 이용\n",
    "print(now_datetime)\n",
    "\n",
    "#연, 월, 일, 시, 분, 초 데이터는 now()메서드의 year, month, day, hour, minute, second 멤버변수를 통해 따로 접근 가능\n",
    "print(now_datetime.year)\n",
    "print(now_datetime.month)\n",
    "print(now_datetime.day)\n",
    "print(now_datetime.hour)\n",
    "print(now_datetime.minute)\n",
    "print(now_datetime.second)"
   ]
  }
 ],
 "metadata": {
  "kernelspec": {
   "display_name": "Python 3",
   "language": "python",
   "name": "python3"
  },
  "language_info": {
   "codemirror_mode": {
    "name": "ipython",
    "version": 3
   },
   "file_extension": ".py",
   "mimetype": "text/x-python",
   "name": "python",
   "nbconvert_exporter": "python",
   "pygments_lexer": "ipython3",
   "version": "3.7.9"
  }
 },
 "nbformat": 4,
 "nbformat_minor": 4
}
