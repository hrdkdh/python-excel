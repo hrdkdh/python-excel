{
 "cells": [
  {
   "cell_type": "code",
   "execution_count": null,
   "metadata": {
    "code_folding": []
   },
   "outputs": [],
   "source": [
    "import pandas as pd\n",
    "\n",
    "df = pd.read_excel(\"if_sample_data.xlsx\", \"무선청소기 제품정보\", index_col=\"id\")\n",
    "df[\"가격대\"] = \"\"\n",
    "\n",
    "for i in range(len(df[\"최저가\"])):\n",
    "    price = int(df[\"최저가\"].loc[i].replace(\",\", \"\"))\n",
    "    if int(price) >= 500000:\n",
    "        df._set_value(i, \"가격대\", \"50만원 이상\")\n",
    "    elif int(price) >= 200000:\n",
    "        df._set_value(i, \"가격대\", \"20만원 이상\")\n",
    "    else:\n",
    "        df._set_value(i, \"가격대\", \"20만원 미만\")\n",
    "display(df_results)\n",
    "df.to_excel(\n",
    "    \"if_results.xlsx\",\n",
    "    sheet_name = \"무선청소기 제품정보_가격대 포함\",\n",
    "    header = True,\n",
    "    index = False\n",
    ")"
   ]
  }
 ],
 "metadata": {
  "kernelspec": {
   "display_name": "Python 3",
   "language": "python",
   "name": "python3"
  },
  "language_info": {
   "codemirror_mode": {
    "name": "ipython",
    "version": 3
   },
   "file_extension": ".py",
   "mimetype": "text/x-python",
   "name": "python",
   "nbconvert_exporter": "python",
   "pygments_lexer": "ipython3",
   "version": "3.7.9"
  }
 },
 "nbformat": 4,
 "nbformat_minor": 4
}
