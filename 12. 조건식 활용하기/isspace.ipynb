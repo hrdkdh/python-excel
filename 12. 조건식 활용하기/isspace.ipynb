{
 "cells": [
  {
   "cell_type": "code",
   "execution_count": null,
   "metadata": {},
   "outputs": [],
   "source": [
    "import pandas as pd\n",
    "\n",
    "df = pd.read_excel(\"isspace_sample_data.xlsx\", \"거래품목\", index_col=\"id\")\n",
    "for i in range(len(df[\"품목\"])):\n",
    "    if str(df[\"수량\"].loc[i]).isspace() == True :\n",
    "        df._set_value(i, \"수량\", 0)\n",
    "    if str(df[\"단가\"].loc[i]).isspace() == True :\n",
    "        df._set_value(i, \"단가\", 0)\n",
    "\n",
    "df = df.astype({\"수량\":\"int\", \"단가\":\"int\"})\n",
    "df[\"공급가액\"] = df[\"수량\"] * df[\"단가\"]\n",
    "df[\"세액\"] = df[\"공급가액\"] * 0.1\n",
    "df = df.astype({\"세액\":\"int\"})\n",
    "display(df)\n",
    "df.to_excel(\n",
    "    \"isspace_results.xlsx\",\n",
    "    sheet_name = \"거래품목_계산결과\",\n",
    "    header = True,\n",
    "    index = False\n",
    ")"
   ]
  }
 ],
 "metadata": {
  "kernelspec": {
   "display_name": "Python 3",
   "language": "python",
   "name": "python3"
  },
  "language_info": {
   "codemirror_mode": {
    "name": "ipython",
    "version": 3
   },
   "file_extension": ".py",
   "mimetype": "text/x-python",
   "name": "python",
   "nbconvert_exporter": "python",
   "pygments_lexer": "ipython3",
   "version": "3.7.9"
  }
 },
 "nbformat": 4,
 "nbformat_minor": 4
}
