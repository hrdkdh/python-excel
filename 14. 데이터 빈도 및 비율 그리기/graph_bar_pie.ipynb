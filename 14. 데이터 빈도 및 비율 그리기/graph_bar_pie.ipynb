{
 "cells": [
  {
   "cell_type": "code",
   "execution_count": 70,
   "metadata": {},
   "outputs": [
    {
     "data": {
      "image/png": "[encoded data removed]",
      "text/plain": [
       "<Figure size 432x288 with 1 Axes>"
      ]
     },
     "metadata": {
      "needs_background": "light"
     },
     "output_type": "display_data"
    }
   ],
   "source": [
    "import pandas as pd\n",
    "import matplotlib as mp\n",
    "import matplotlib.pyplot as plt\n",
    "\n",
    "#그래프 한글폰트 적용\n",
    "mp.rc(\"font\", family=\"Malgun Gothic\")\n",
    "\n",
    "df = pd.read_excel(\"graph_sample_data.xlsx\", \"학생건강검사 데이터\", index_col=\"id\")\n",
    "# display(df)\n",
    "\n",
    "#성별 Bar Chart\n",
    "s_count=df[\"sex\"].value_counts() #개별(1개) 범주형 변수의 자료 수 계산\n",
    "s_count.plot(kind=\"bar\", title=\"성별 학생수\", figsize=(6, 4),\n",
    "             fontsize=14, color=[(0.3, 0.5, 0.7), (0.7, 0.5, 0.3)])\n",
    "plt.show()\n",
    "\n",
    "#지역별*성별 Bar Chart\n",
    "df_group_by = df.groupby([\"ctype\", \"sex\"]) #2개 열의 범주형 변수 자료 수 계산(교차분석)\n",
    "df_group_by = df_group_by[\"sex\"].count().unstack()\n",
    "df_group_by.plot(kind=\"bar\", title=\"성별 학생수(지역별)\", figsize=(8, 6),\n",
    "                 fontsize=16, color=[(0.3, 0.5, 0.7), (0.7, 0.5, 0.3)])\n",
    "plt.show()\n",
    "\n",
    "#초/중/고 Bar Chart\n",
    "g_count = df[\"sch_grade\"].value_counts()\n",
    "# sort_index(inplace = True) : 정렬 결과를 df에 저장\n",
    "g_count.sort_index(inplace = True);\n",
    "g_count.plot(kind=\"bar\", title=\"학령별 학생수\", figsize=(8, 6),\n",
    "                 fontsize=16, color=[(0.3, 0.5, 0.7), (0.7, 0.5, 0.3), (0.3, 0.7, 0.5)])\n",
    "plt.show()\n",
    "\n",
    "#도시별 Bar Chart\n",
    "# groupby(column):column기준 자료 요약,  as_index: groupby 변수의 index로 사용 여부 \n",
    "c_count=df[\"city\"].value_counts()\n",
    "c_count.plot(kind=\"bar\", title=\"지역별 학생수\", figsize=(8, 6),\n",
    "                 fontsize=16)\n",
    "plt.show()\n",
    "\n",
    "#성별 Pie Chart\n",
    "s_count=df[\"sex\"].value_counts() #개별(1개) 범주형 변수의 자료 수 계산\n",
    "s_count.plot(kind=\"pie\", title=\"성별 학생수\", figsize=(6, 6), fontsize=14)\n",
    "plt.show()"
   ]
  }
 ],
 "metadata": {
  "kernelspec": {
   "display_name": "Python 3",
   "language": "python",
   "name": "python3"
  },
  "language_info": {
   "codemirror_mode": {
    "name": "ipython",
    "version": 3
   },
   "file_extension": ".py",
   "mimetype": "text/x-python",
   "name": "python",
   "nbconvert_exporter": "python",
   "pygments_lexer": "ipython3",
   "version": "3.7.9"
  }
 },
 "nbformat": 4,
 "nbformat_minor": 4
}
