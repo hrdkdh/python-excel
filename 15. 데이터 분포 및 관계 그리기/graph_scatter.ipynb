{
 "cells": [
  {
   "cell_type": "code",
   "execution_count": null,
   "metadata": {
    "scrolled": true
   },
   "outputs": [],
   "source": [
    "import pandas as pd\n",
    "import matplotlib as mp\n",
    "import matplotlib.pyplot as plt\n",
    "import seaborn as sns\n",
    "\n",
    "sns.scatterplot?\n",
    "\n",
    "\n",
    "#그래프 한글폰트 적용\n",
    "mp.rc(\"font\", family=\"Malgun Gothic\")\n",
    "\n",
    "df = pd.read_excel(\"graph_sample_data.xlsx\", \"학생건강검사 데이터\", index_col=\"id\")\n",
    "\n",
    "#hue: 그룹 변수, style : 그룹별 marker 구분\n",
    "sns.scatterplot(x=\"height\", y=\"weight\", hue=\"sex\", style=\"sex\", data=df)\n",
    "plt.show()"
   ]
  }
 ],
 "metadata": {
  "kernelspec": {
   "display_name": "Python 3",
   "language": "python",
   "name": "python3"
  },
  "language_info": {
   "codemirror_mode": {
    "name": "ipython",
    "version": 3
   },
   "file_extension": ".py",
   "mimetype": "text/x-python",
   "name": "python",
   "nbconvert_exporter": "python",
   "pygments_lexer": "ipython3",
   "version": "3.7.9"
  }
 },
 "nbformat": 4,
 "nbformat_minor": 4
}
