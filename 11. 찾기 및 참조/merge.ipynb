{
 "cells": [
  {
   "cell_type": "code",
   "execution_count": null,
   "metadata": {},
   "outputs": [],
   "source": [
    "import pandas as pd\n",
    "\n",
    "df1 = pd.read_excel(\"merge_sample_data.xlsx\", \"업종정보\")\n",
    "df2 = pd.read_excel(\"merge_sample_data.xlsx\", \"주식정보\").loc[:, [\"기업명\", \"상장시가총액(원)\"]]\n",
    "\n",
    "#엑셀 vlookup을 대체할 수 있는 코드\n",
    "df_results = pd.merge(df1, df2, on=\"기업명\", how=\"left\")\n",
    "\n",
    "display(df_results)\n",
    "df_results.to_excel(\n",
    "    \"merge_results.xlsx\",\n",
    "    sheet_name = \"업종정보_시총정보 포함\",\n",
    "    header = True,\n",
    "    index = False\n",
    ")"
   ]
  }
 ],
 "metadata": {
  "kernelspec": {
   "display_name": "Python 3",
   "language": "python",
   "name": "python3"
  },
  "language_info": {
   "codemirror_mode": {
    "name": "ipython",
    "version": 3
   },
   "file_extension": ".py",
   "mimetype": "text/x-python",
   "name": "python",
   "nbconvert_exporter": "python",
   "pygments_lexer": "ipython3",
   "version": "3.7.9"
  }
 },
 "nbformat": 4,
 "nbformat_minor": 4
}
