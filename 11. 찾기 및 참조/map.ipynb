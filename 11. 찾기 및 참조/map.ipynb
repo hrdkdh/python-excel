{
 "cells": [
  {
   "cell_type": "code",
   "execution_count": null,
   "metadata": {
    "scrolled": false
   },
   "outputs": [],
   "source": [
    "import pandas as pd\n",
    "\n",
    "df = pd.read_excel(\"map_sample_data.xlsx\", \"Sheet1\")\n",
    "\n",
    "mapping = {\n",
    "    \"1\":\"BLDC\",\n",
    "    \"2\":\"인버터\",\n",
    "    \"3\":\"기타\"\n",
    "}\n",
    "\n",
    "#방법1\n",
    "df[\"제품코드_끝자리\"] = df[\"제품코드\"].str[-1]\n",
    "df[\"모터방식\"] = df[\"제품코드_끝자리\"].map(mapping)\n",
    "\n",
    "#방법2\n",
    "# df[\"모터방식\"] = df[\"제품코드\"].str[-1].map(mapping)\n",
    "\n",
    "display(df)"
   ]
  }
 ],
 "metadata": {
  "kernelspec": {
   "display_name": "Python 3",
   "language": "python",
   "name": "python3"
  },
  "language_info": {
   "codemirror_mode": {
    "name": "ipython",
    "version": 3
   },
   "file_extension": ".py",
   "mimetype": "text/x-python",
   "name": "python",
   "nbconvert_exporter": "python",
   "pygments_lexer": "ipython3",
   "version": "3.7.9"
  }
 },
 "nbformat": 4,
 "nbformat_minor": 4
}
